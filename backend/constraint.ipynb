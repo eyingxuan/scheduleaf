{
 "cells": [
  {
   "cell_type": "code",
   "execution_count": 2,
   "metadata": {},
   "outputs": [],
   "source": [
    "from ortools.sat.python import cp_model"
   ]
  },
  {
   "cell_type": "markdown",
   "metadata": {},
   "source": [
    "# Tasks\n",
    "- Duration\n",
    "- Hard start and end time?\n",
    "- Concurrent?\n",
    "- Precedence\n",
    "- Sentiment (first, mid, end)\n",
    "- Deadline slot"
   ]
  },
  {
   "cell_type": "code",
   "execution_count": 156,
   "metadata": {},
   "outputs": [],
   "source": [
    "# CONSTANTS\n",
    "\n",
    "WORKING_HOURS = 8\n",
    "SUBDIVISIONS = 4\n",
    "DAYS = 5\n",
    "NUM_SLOTS = WORKING_HOURS * SUBDIVISIONS * DAYS\n",
    "DEADLINE_PENALTY_CONSTANT = 4\n",
    "SENTIMENT_PENALTY_CONSTANT = 10\n",
    "\n"
   ]
  },
  {
   "cell_type": "code",
   "execution_count": 157,
   "metadata": {},
   "outputs": [],
   "source": [
    "# PRIORITY FUNCTION\n",
    "def deadline_penalty(end, deadline):\n",
    "    return DEADLINE_PENALTY_CONSTANT * (NUM_SLOTS - (deadline - end))\n"
   ]
  },
  {
   "cell_type": "code",
   "execution_count": 158,
   "metadata": {},
   "outputs": [],
   "source": [
    "class Task:\n",
    "    def __init__(self, duration, start_time, concurrent, precedes, sentiment, deadline, name):\n",
    "        self.duration = duration\n",
    "        # OPTIONAL\n",
    "        self.start_time = start_time\n",
    "        self.concurrent = concurrent\n",
    "        # INDEX IN ARRAY\n",
    "        self.precedes = precedes\n",
    "        self.sentiment = sentiment\n",
    "        self.deadline = deadline\n",
    "        self.name = name"
   ]
  },
  {
   "cell_type": "code",
   "execution_count": 159,
   "metadata": {},
   "outputs": [],
   "source": [
    "class TaskScheduler:\n",
    "    def __init__(self, tasks):\n",
    "        self.tasks = tasks"
   ]
  },
  {
   "cell_type": "code",
   "execution_count": 160,
   "metadata": {},
   "outputs": [],
   "source": [
    "def create_interval_variables(self):\n",
    "    model = self.model\n",
    "    self.schedule = []\n",
    "    self.demands = []\n",
    "    for t in self.tasks:\n",
    "        start, end, interval = None, None, None\n",
    "        if t.start_time == None:\n",
    "            start = model.NewIntVar(0, NUM_SLOTS - 1, f'Task {t.name} start')\n",
    "            end = model.NewIntVar(0, NUM_SLOTS - 1, f'Task {t.name} end')\n",
    "        else:\n",
    "            start = model.NewIntVar(t.start_time, t.start_time, f'Task {t.name} start')\n",
    "            end = model.NewIntVar(t.start_time + t.duration, t.start_time + t.duration, f'Task {t.name} end')\n",
    "        interval = model.NewIntervalVar(start, t.duration, end, f'Task {t.name} interval')\n",
    "        interval.start = start\n",
    "        interval.end = end\n",
    "        self.demands.append(0 if t.concurrent else 1)\n",
    "        self.schedule.append(interval)\n",
    "TaskScheduler.create_interval_variables = create_interval_variables"
   ]
  },
  {
   "cell_type": "code",
   "execution_count": 161,
   "metadata": {},
   "outputs": [],
   "source": [
    "def create_overlapping_constraints(self):\n",
    "    model = self.model\n",
    "    model.AddCumulative(self.schedule, self.demands, 1)\n",
    "TaskScheduler.create_overlapping_constraints = create_overlapping_constraints"
   ]
  },
  {
   "cell_type": "code",
   "execution_count": 221,
   "metadata": {},
   "outputs": [],
   "source": [
    "def create_precedence_constraints(self):\n",
    "    for i, t in enumerate(self.tasks):\n",
    "        for succ in t.precedes:\n",
    "            self.model.Add(self.schedule[i].end <= self.schedule[succ].start)\n",
    "TaskScheduler.create_precedence_constraints = create_precedence_constraints"
   ]
  },
  {
   "cell_type": "code",
   "execution_count": 222,
   "metadata": {},
   "outputs": [],
   "source": [
    "def create_scheduling_penalties(self):\n",
    "    self.penalty_sq = self.model.NewIntVar(0, 200000000, 'Scheduling Penalties 1/2')\n",
    "    self.penalty = self.model.NewIntVar(0, 200000000000000, 'Scheulding Penalties')\n",
    "    cumul = 0\n",
    "    for i, s in enumerate(self.schedule):\n",
    "        cumul += deadline_penalty(s.end, self.tasks[i].deadline)\n",
    "        ##### TODO ###### Add sentiment penalties\n",
    "        \n",
    "#     self.model.Add(self.penalty == cumul)\n",
    "    self.model.Add(self.penalty_sq == cumul)\n",
    "    self.model.AddMultiplicationEquality(self.penalty, [self.penalty_sq, self.penalty_sq])\n",
    "\n",
    "TaskScheduler.create_scheduling_penalties = create_scheduling_penalties    "
   ]
  },
  {
   "cell_type": "code",
   "execution_count": 223,
   "metadata": {},
   "outputs": [],
   "source": [
    "def solve_model(self):\n",
    "    self.model = cp_model.CpModel()\n",
    "    self.solver = cp_model.CpSolver()\n",
    "    \n",
    "    self.create_interval_variables()\n",
    "    self.create_overlapping_constraints()\n",
    "    self.create_precedence_constraints()\n",
    "    self.create_scheduling_penalties()\n",
    "    self.model.Minimize(self.penalty)\n",
    "    \n",
    "    self.solver.parameters.num_search_workers = 4\n",
    "    if self.solver.Solve(self.model) in [cp_model.FEASIBLE, cp_model.OPTIMAL]:\n",
    "        return [(self.solver.Value(s.start), self.solver.Value(s.end)) for s in self.schedule]\n",
    "TaskScheduler.solve_model = solve_model"
   ]
  },
  {
   "cell_type": "code",
   "execution_count": 238,
   "metadata": {},
   "outputs": [],
   "source": [
    "scheduler = TaskScheduler([Task(1, 0, True, [], None, 160, \"Coffee\"), Task(10, None, False, [], None, 60, \"Task1\"), Task(3, None, False, [], None, 140, \"Task2\")])"
   ]
  },
  {
   "cell_type": "code",
   "execution_count": 239,
   "metadata": {},
   "outputs": [
    {
     "data": {
      "text/plain": [
       "[(0, 1), (3, 13), (0, 3)]"
      ]
     },
     "execution_count": 239,
     "metadata": {},
     "output_type": "execute_result"
    }
   ],
   "source": [
    "scheduler.solve_model()"
   ]
  },
  {
   "cell_type": "markdown",
   "metadata": {},
   "source": [
    "# Examples"
   ]
  },
  {
   "cell_type": "markdown",
   "metadata": {},
   "source": [
    "- "
   ]
  }
 ],
 "metadata": {
  "kernelspec": {
   "display_name": "Python 3",
   "language": "python",
   "name": "python3"
  },
  "language_info": {
   "codemirror_mode": {
    "name": "ipython",
    "version": 3
   },
   "file_extension": ".py",
   "mimetype": "text/x-python",
   "name": "python",
   "nbconvert_exporter": "python",
   "pygments_lexer": "ipython3",
   "version": "3.7.3"
  }
 },
 "nbformat": 4,
 "nbformat_minor": 4
}
