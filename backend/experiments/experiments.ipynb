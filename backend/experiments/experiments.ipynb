{
 "cells": [
  {
   "cell_type": "code",
   "execution_count": 26,
   "metadata": {},
   "outputs": [],
   "source": [
    "from ortools.sat.python import cp_model\n",
    "from enum import Enum\n",
    "\n",
    "\n",
    "class Sentiment(Enum):\n",
    "    MORN = 1\n",
    "    AFT = 2\n",
    "\n",
    "\n",
    "# CONSTANTS\n",
    "\n",
    "\n",
    "WORKING_HOURS = 8\n",
    "SUBDIVISIONS = 4\n",
    "DAYS = 5\n",
    "NUM_SLOTS = WORKING_HOURS * SUBDIVISIONS * DAYS\n",
    "DEADLINE_PENALTY_CONSTANT = 1\n",
    "SENTIMENT_PENALTY_CONSTANT = 5000\n",
    "\n",
    "# PRIORITY FUNCTION\n",
    "\n",
    "\n",
    "def deadline_penalty(end, deadline):\n",
    "    return DEADLINE_PENALTY_CONSTANT * (NUM_SLOTS - (deadline - end))\n",
    "\n",
    "\n",
    "class Task:\n",
    "    def __init__(\n",
    "        self, duration, start_time, concurrent, precedes, sentiment, deadline, name\n",
    "    ):\n",
    "        self.duration = duration\n",
    "        # OPTIONAL\n",
    "        self.start_time = start_time\n",
    "        self.concurrent = concurrent\n",
    "        # INDEX IN ARRAY\n",
    "        self.precedes = precedes\n",
    "        self.sentiment = sentiment\n",
    "        self.deadline = deadline\n",
    "        self.name = name\n",
    "\n",
    "\n",
    "class TaskScheduler:\n",
    "    def __init__(self, tasks):\n",
    "        self.tasks = tasks\n",
    "\n",
    "    def create_interval_variables(self):\n",
    "        model = self.model\n",
    "        self.schedule = []\n",
    "        self.demands = []\n",
    "        for t in self.tasks:\n",
    "            start, end, interval = None, None, None\n",
    "            if t.start_time == None:\n",
    "                start = model.NewIntVar(0, NUM_SLOTS, f\"Task {t.name} start\")\n",
    "                end = model.NewIntVar(1, NUM_SLOTS, f\"Task {t.name} end\")\n",
    "            else:\n",
    "                start = model.NewIntVar(\n",
    "                    t.start_time, t.start_time, f\"Task {t.name} start\"\n",
    "                )\n",
    "                end = model.NewIntVar(\n",
    "                    t.start_time + t.duration,\n",
    "                    t.start_time + t.duration,\n",
    "                    f\"Task {t.name} end\",\n",
    "                )\n",
    "\n",
    "            model.Add(end <= t.deadline)\n",
    "            interval = model.NewIntervalVar(\n",
    "                start, t.duration, end, f\"Task {t.name} interval\"\n",
    "            )\n",
    "            interval.start = start\n",
    "            interval.end = end\n",
    "            self.demands.append(0 if t.concurrent else 1)\n",
    "            self.schedule.append(interval)\n",
    "\n",
    "    def create_overlapping_constraints(self):\n",
    "        model = self.model\n",
    "        model.AddCumulative(self.schedule, self.demands, 1)\n",
    "\n",
    "    def create_precedence_constraints(self):\n",
    "        for i, t in enumerate(self.tasks):\n",
    "            for succ in t.precedes:\n",
    "                self.model.Add(self.schedule[i].end <= self.schedule[succ].start)\n",
    "\n",
    "    def create_scheduling_penalties(self):\n",
    "        cumul = 0\n",
    "        for i, s in enumerate(self.schedule):\n",
    "            tmp = self.model.NewIntVar(-400, 400, \"\")\n",
    "            squared = self.model.NewIntVar(0, 3000000, \"\")\n",
    "            p = deadline_penalty(s.end, self.tasks[i].deadline)\n",
    "            self.model.Add(tmp == p)\n",
    "            self.model.AddMultiplicationEquality(squared, [tmp, tmp])\n",
    "            cumul += squared\n",
    "        return cumul\n",
    "\n",
    "    def create_sentiment_penalties(self):\n",
    "        cumul = 0\n",
    "        for i, s in enumerate(self.schedule):\n",
    "            if self.tasks[i].sentiment:\n",
    "                tmp = self.model.NewIntVar(0, WORKING_HOURS * SUBDIVISIONS, \"\")\n",
    "                sched_penalty = self.model.NewIntVar(0, 5000, \"\")\n",
    "                indicator = self.model.NewBoolVar(\"tmp >= half work day?\")\n",
    "                self.model.AddModuloEquality(tmp, s.start, WORKING_HOURS * SUBDIVISIONS)\n",
    "                self.model.Add(tmp >= WORKING_HOURS * SUBDIVISIONS // 2).OnlyEnforceIf(\n",
    "                    indicator\n",
    "                    if self.tasks[i].sentiment == Sentiment.MORN\n",
    "                    else indicator.Not()\n",
    "                )\n",
    "                self.model.Add(tmp < WORKING_HOURS * SUBDIVISIONS // 2).OnlyEnforceIf(\n",
    "                    indicator.Not()\n",
    "                    if self.tasks[i].sentiment == Sentiment.MORN\n",
    "                    else indicator\n",
    "                )\n",
    "\n",
    "                self.model.Add(sched_penalty == 5000).OnlyEnforceIf(indicator)\n",
    "                self.model.Add(sched_penalty == 0).OnlyEnforceIf(indicator.Not())\n",
    "                cumul += sched_penalty\n",
    "        return cumul\n",
    "\n",
    "    def create_penalties(self):\n",
    "        self.penalty = self.model.NewIntVar(0, 2000000000, \"Scheduling Penalties\")\n",
    "        p1, p2 = self.create_scheduling_penalties(), self.create_sentiment_penalties()\n",
    "        self.model.Add(p1 + p2 == self.penalty)\n",
    "\n",
    "    def solve_model(self):\n",
    "        self.model = cp_model.CpModel()\n",
    "        self.solver = cp_model.CpSolver()\n",
    "\n",
    "        self.create_interval_variables()\n",
    "        self.create_overlapping_constraints()\n",
    "        self.create_precedence_constraints()\n",
    "        self.create_penalties()\n",
    "        self.model.Minimize(self.penalty)\n",
    "\n",
    "        self.solver.parameters.num_search_workers = 4\n",
    "        m = self.solver.Solve(self.model)\n",
    "        # print(self.solver.StatusName())\n",
    "\n",
    "        if m in [cp_model.FEASIBLE, cp_model.OPTIMAL]:\n",
    "            return [\n",
    "                (self.solver.Value(s.start), self.solver.Value(s.end))\n",
    "                for s in self.schedule\n",
    "            ]\n"
   ]
  },
  {
   "cell_type": "code",
   "execution_count": 30,
   "metadata": {},
   "outputs": [],
   "source": [
    "task1 = Task(5, None, False, [], Sentiment.AFT, 50, \"Task 1\")\n",
    "task2 = Task(3, None, False, [], Sentiment.MORN, 50, \"Task 2\")\n",
    "task3 = Task(10, None, False, [], Sentiment.AFT, 100, \"Task 1\")\n",
    "task4 = Task(1, 0, True, [], None, 160, \"Coffee\")"
   ]
  },
  {
   "cell_type": "code",
   "execution_count": 31,
   "metadata": {},
   "outputs": [],
   "source": [
    "scheduler = TaskScheduler([task1, task2, task3, task4])"
   ]
  },
  {
   "cell_type": "code",
   "execution_count": 32,
   "metadata": {},
   "outputs": [
    {
     "data": {
      "text/plain": [
       "[(16, 21), (0, 3), (21, 31), (0, 1)]"
      ]
     },
     "execution_count": 32,
     "metadata": {},
     "output_type": "execute_result"
    }
   ],
   "source": [
    "scheduler.solve_model()"
   ]
  },
  {
   "cell_type": "code",
   "execution_count": 1,
   "metadata": {},
   "outputs": [],
   "source": [
    "import nltk"
   ]
  },
  {
   "cell_type": "code",
   "execution_count": 2,
   "metadata": {},
   "outputs": [
    {
     "name": "stderr",
     "output_type": "stream",
     "text": [
      "[nltk_data] Downloading package vader_lexicon to\n",
      "[nltk_data]     /Users/yxeng/nltk_data...\n"
     ]
    },
    {
     "data": {
      "text/plain": [
       "True"
      ]
     },
     "execution_count": 2,
     "metadata": {},
     "output_type": "execute_result"
    }
   ],
   "source": [
    "nltk.download('vader_lexicon')"
   ]
  },
  {
   "cell_type": "code",
   "execution_count": 3,
   "metadata": {},
   "outputs": [],
   "source": [
    "from nltk.sentiment.vader import SentimentIntensityAnalyzer"
   ]
  },
  {
   "cell_type": "code",
   "execution_count": 4,
   "metadata": {},
   "outputs": [],
   "source": [
    "sid = SentimentIntensityAnalyzer()"
   ]
  },
  {
   "cell_type": "code",
   "execution_count": 8,
   "metadata": {},
   "outputs": [
    {
     "data": {
      "text/plain": [
       "{'neg': 0.437, 'neu': 0.563, 'pos': 0.0, 'compound': -0.3241}"
      ]
     },
     "execution_count": 8,
     "metadata": {},
     "output_type": "execute_result"
    }
   ],
   "source": [
    "sid.polarity_scores(\"Don't really like this\")"
   ]
  },
  {
   "cell_type": "code",
   "execution_count": null,
   "metadata": {},
   "outputs": [],
   "source": []
  }
 ],
 "metadata": {
  "kernelspec": {
   "display_name": "Python 3",
   "language": "python",
   "name": "python3"
  },
  "language_info": {
   "codemirror_mode": {
    "name": "ipython",
    "version": 3
   },
   "file_extension": ".py",
   "mimetype": "text/x-python",
   "name": "python",
   "nbconvert_exporter": "python",
   "pygments_lexer": "ipython3",
   "version": "3.7.3"
  }
 },
 "nbformat": 4,
 "nbformat_minor": 4
}
