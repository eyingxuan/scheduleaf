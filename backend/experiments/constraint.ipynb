{
 "cells": [
  {
   "cell_type": "code",
   "execution_count": 13,
   "metadata": {},
   "outputs": [],
   "source": [
    "from ortools.sat.python import cp_model"
   ]
  },
  {
   "cell_type": "markdown",
   "metadata": {},
   "source": [
    "# Tasks\n",
    "- Duration\n",
    "- Hard start and end time?\n",
    "- Concurrent?\n",
    "- Precedence\n",
    "- Sentiment (first, mid, end)\n",
    "- Deadline slot"
   ]
  },
  {
   "cell_type": "code",
   "execution_count": 14,
   "metadata": {},
   "outputs": [],
   "source": [
    "# CONSTANTS\n",
    "\n",
    "WORKING_HOURS = 8\n",
    "SUBDIVISIONS = 4\n",
    "DAYS = 5\n",
    "NUM_SLOTS = WORKING_HOURS * SUBDIVISIONS * DAYS\n",
    "DEADLINE_PENALTY_CONSTANT = 1\n",
    "SENTIMENT_PENALTY_CONSTANT = 5000\n",
    "\n"
   ]
  },
  {
   "cell_type": "code",
   "execution_count": 15,
   "metadata": {},
   "outputs": [],
   "source": [
    "# PRIORITY FUNCTION\n",
    "def deadline_penalty(end, deadline):\n",
    "    return DEADLINE_PENALTY_CONSTANT * (NUM_SLOTS - (deadline - end))\n"
   ]
  },
  {
   "cell_type": "code",
   "execution_count": 16,
   "metadata": {},
   "outputs": [],
   "source": [
    "class Task:\n",
    "    def __init__(self, duration, start_time, concurrent, precedes, sentiment, deadline, name):\n",
    "        self.duration = duration\n",
    "        # OPTIONAL\n",
    "        self.start_time = start_time\n",
    "        self.concurrent = concurrent\n",
    "        # INDEX IN ARRAY\n",
    "        self.precedes = precedes\n",
    "        self.sentiment = sentiment\n",
    "        self.deadline = deadline\n",
    "        self.name = name"
   ]
  },
  {
   "cell_type": "code",
   "execution_count": 17,
   "metadata": {},
   "outputs": [],
   "source": [
    "class TaskScheduler:\n",
    "    def __init__(self, tasks):\n",
    "        self.tasks = tasks"
   ]
  },
  {
   "cell_type": "code",
   "execution_count": 18,
   "metadata": {},
   "outputs": [],
   "source": [
    "def create_interval_variables(self):\n",
    "    model = self.model\n",
    "    self.schedule = []\n",
    "    self.demands = []\n",
    "    for t in self.tasks:\n",
    "        start, end, interval = None, None, None\n",
    "        if t.start_time == None:\n",
    "            start = model.NewIntVar(0, NUM_SLOTS, f'Task {t.name} start')\n",
    "            end = model.NewIntVar(1, NUM_SLOTS, f'Task {t.name} end')\n",
    "        else:\n",
    "            start = model.NewIntVar(t.start_time, t.start_time, f'Task {t.name} start')\n",
    "            end = model.NewIntVar(t.start_time + t.duration, t.start_time + t.duration, f'Task {t.name} end')\n",
    "            \n",
    "        model.Add(end <= t.deadline)\n",
    "        interval = model.NewIntervalVar(start, t.duration, end, f'Task {t.name} interval')\n",
    "        interval.start = start\n",
    "        interval.end = end\n",
    "        self.demands.append(0 if t.concurrent else 1)\n",
    "        self.schedule.append(interval)\n",
    "TaskScheduler.create_interval_variables = create_interval_variables"
   ]
  },
  {
   "cell_type": "code",
   "execution_count": 19,
   "metadata": {},
   "outputs": [],
   "source": [
    "def create_overlapping_constraints(self):\n",
    "    model = self.model\n",
    "    model.AddCumulative(self.schedule, self.demands, 1)\n",
    "TaskScheduler.create_overlapping_constraints = create_overlapping_constraints"
   ]
  },
  {
   "cell_type": "code",
   "execution_count": 20,
   "metadata": {},
   "outputs": [],
   "source": [
    "def create_precedence_constraints(self):\n",
    "    for i, t in enumerate(self.tasks):\n",
    "        for succ in t.precedes:\n",
    "            self.model.Add(self.schedule[i].end <= self.schedule[succ].start)\n",
    "TaskScheduler.create_precedence_constraints = create_precedence_constraints"
   ]
  },
  {
   "cell_type": "code",
   "execution_count": 21,
   "metadata": {},
   "outputs": [],
   "source": [
    "def create_scheduling_penalties(self):\n",
    "    self.penalty = self.model.NewIntVar(0, 2000000000, 'Scheulding Penalties')\n",
    "    cumul = 0\n",
    "    for i, s in enumerate(self.schedule):\n",
    "        tmp = self.model.NewIntVar(-400, 400, '')\n",
    "        squared = self.model.NewIntVar(0, 3000000, '')\n",
    "        p = deadline_penalty(s.end, self.tasks[i].deadline)\n",
    "        self.model.Add(tmp == p)\n",
    "        self.model.AddMultiplicationEquality(squared, [tmp, tmp])\n",
    "        cumul += squared\n",
    "        ##### TODO ###### Add sentiment penalties\n",
    "        \n",
    "    self.model.Add(self.penalty == cumul)\n",
    "\n",
    "TaskScheduler.create_scheduling_penalties = create_scheduling_penalties    "
   ]
  },
  {
   "cell_type": "code",
   "execution_count": 22,
   "metadata": {},
   "outputs": [],
   "source": [
    "def solve_model(self):\n",
    "    self.model = cp_model.CpModel()\n",
    "    self.solver = cp_model.CpSolver()\n",
    "    \n",
    "    self.create_interval_variables()\n",
    "    self.create_overlapping_constraints()\n",
    "    self.create_precedence_constraints()\n",
    "    self.create_scheduling_penalties()\n",
    "    self.model.Minimize(self.penalty)\n",
    "    \n",
    "    self.solver.parameters.num_search_workers = 4\n",
    "    m = self.solver.Solve(self.model)\n",
    "    print(self.solver.StatusName())\n",
    "\n",
    "    if m in [cp_model.FEASIBLE, cp_model.OPTIMAL]:\n",
    "        return [(self.solver.Value(s.start), self.solver.Value(s.end)) for s in self.schedule]\n",
    "\n",
    "TaskScheduler.solve_model = solve_model"
   ]
  },
  {
   "cell_type": "markdown",
   "metadata": {},
   "source": [
    "# Examples (Considerations)"
   ]
  },
  {
   "cell_type": "code",
   "execution_count": 23,
   "metadata": {},
   "outputs": [],
   "source": [
    "# duration, start_time, concurrent, precedes, sentiment, deadline, name"
   ]
  },
  {
   "cell_type": "markdown",
   "metadata": {},
   "source": [
    "### 1. Provided timeslots are always respected"
   ]
  },
  {
   "cell_type": "code",
   "execution_count": 28,
   "metadata": {},
   "outputs": [
    {
     "name": "stdout",
     "output_type": "stream",
     "text": [
      "OPTIMAL\n"
     ]
    },
    {
     "data": {
      "text/plain": [
       "[(0, 1), (4, 14), (1, 4)]"
      ]
     },
     "execution_count": 28,
     "metadata": {},
     "output_type": "execute_result"
    }
   ],
   "source": [
    "scheduler = TaskScheduler([Task(1, 0, False, [], None, 160, \"Coffee\"), Task(10, None, False, [], None, 60, \"Task1\"), Task(3, None, False, [1], None, 140, \"Task2\")])\n",
    "scheduler.solve_model()"
   ]
  },
  {
   "cell_type": "markdown",
   "metadata": {},
   "source": [
    "Note that coffee is scheduled at its given start time, even though the deadline is very far away. To demonstrate this changes, let's see what happens if I don't give Coffee a start time."
   ]
  },
  {
   "cell_type": "code",
   "execution_count": 30,
   "metadata": {},
   "outputs": [
    {
     "name": "stdout",
     "output_type": "stream",
     "text": [
      "OPTIMAL\n"
     ]
    },
    {
     "data": {
      "text/plain": [
       "[(13, 14), (3, 13), (0, 3)]"
      ]
     },
     "execution_count": 30,
     "metadata": {},
     "output_type": "execute_result"
    }
   ],
   "source": [
    "scheduler = TaskScheduler([Task(1, None, False, [], None, 159, \"Coffee\"), Task(10, None, False, [], None, 60, \"Task1\"), Task(3, None, False, [1], None, 140, \"Task2\")])\n",
    "scheduler.solve_model()"
   ]
  },
  {
   "cell_type": "markdown",
   "metadata": {},
   "source": [
    "### 2. Then, dependencies are respected"
   ]
  },
  {
   "cell_type": "code",
   "execution_count": 31,
   "metadata": {},
   "outputs": [
    {
     "name": "stdout",
     "output_type": "stream",
     "text": [
      "OPTIMAL\n"
     ]
    },
    {
     "data": {
      "text/plain": [
       "[(3, 4), (0, 3)]"
      ]
     },
     "execution_count": 31,
     "metadata": {},
     "output_type": "execute_result"
    }
   ],
   "source": [
    "scheduler = TaskScheduler([Task(1, None, False, [], None, 4, \"Task1\"), Task(3, None, False, [0], None, 140, \"Task2\")])\n",
    "scheduler.solve_model()"
   ]
  },
  {
   "cell_type": "markdown",
   "metadata": {},
   "source": [
    "Even though Task 1 has a much closer deadline than Task 3, precedence is always respected, and Task 2 must precede Task 1. We can see what happens if we get rid of precedence."
   ]
  },
  {
   "cell_type": "code",
   "execution_count": 32,
   "metadata": {},
   "outputs": [
    {
     "name": "stdout",
     "output_type": "stream",
     "text": [
      "OPTIMAL\n"
     ]
    },
    {
     "data": {
      "text/plain": [
       "[(0, 1), (1, 4)]"
      ]
     },
     "execution_count": 32,
     "metadata": {},
     "output_type": "execute_result"
    }
   ],
   "source": [
    "scheduler = TaskScheduler([Task(1, None, False, [], None, 4, \"Task1\"), Task(3, None, False, [], None, 140, \"Task2\")])\n",
    "scheduler.solve_model()"
   ]
  },
  {
   "cell_type": "markdown",
   "metadata": {},
   "source": [
    "Note that the solver will simply fail if you provide an fixed time for a task that has dependencies, and there isn't enough time"
   ]
  },
  {
   "cell_type": "code",
   "execution_count": 33,
   "metadata": {},
   "outputs": [
    {
     "name": "stdout",
     "output_type": "stream",
     "text": [
      "INFEASIBLE\n"
     ]
    }
   ],
   "source": [
    "scheduler = TaskScheduler([Task(5, 2, False, [], None, 100, \"Task1\"), Task(3, None, False, [0], None, 140, \"Task2\")])\n",
    "scheduler.solve_model()"
   ]
  },
  {
   "cell_type": "markdown",
   "metadata": {},
   "source": [
    "Task 2 must precede Task 1, but Task 1 was given a fixed start time of 2, while Task 2 requires 3 units of time"
   ]
  },
  {
   "cell_type": "markdown",
   "metadata": {},
   "source": [
    "### 3. Then, deadlines/priorities are respected"
   ]
  },
  {
   "cell_type": "code",
   "execution_count": 34,
   "metadata": {},
   "outputs": [
    {
     "name": "stdout",
     "output_type": "stream",
     "text": [
      "OPTIMAL\n"
     ]
    },
    {
     "data": {
      "text/plain": [
       "[(0, 3), (3, 6)]"
      ]
     },
     "execution_count": 34,
     "metadata": {},
     "output_type": "execute_result"
    }
   ],
   "source": [
    "scheduler = TaskScheduler([Task(3, None, False, [], None, 4, \"Task1\"), Task(3, None, False, [], None, 140, \"Task2\")])\n",
    "scheduler.solve_model()"
   ]
  },
  {
   "cell_type": "markdown",
   "metadata": {},
   "source": [
    "Clearly, Task 1 has a much closer deadline, so we schedule Task 1 first."
   ]
  }
 ],
 "metadata": {
  "kernelspec": {
   "display_name": "Python 3",
   "language": "python",
   "name": "python3"
  },
  "language_info": {
   "codemirror_mode": {
    "name": "ipython",
    "version": 3
   },
   "file_extension": ".py",
   "mimetype": "text/x-python",
   "name": "python",
   "nbconvert_exporter": "python",
   "pygments_lexer": "ipython3",
   "version": "3.7.3"
  }
 },
 "nbformat": 4,
 "nbformat_minor": 4
}
